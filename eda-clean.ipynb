{
 "cells": [
  {
   "cell_type": "code",
   "execution_count": 1,
   "id": "62f16296",
   "metadata": {},
   "outputs": [],
   "source": [
    "# Importamos los packages necesarios \n",
    "import pandas as pd\n",
    "import numpy as np\n",
    "import matplotlib.pyplot as plt\n",
    "import seaborn as sns"
   ]
  },
  {
   "cell_type": "code",
   "execution_count": 2,
   "id": "71fe110c",
   "metadata": {},
   "outputs": [],
   "source": [
    "#cargamos los dataset necesarios para el trabajo. \n",
    "df_demographics = pd.read_csv('data/data_raw/df_final_demo.txt', sep=',')\n",
    "df_experiment = pd.read_csv('data/data_raw/df_final_experiment_clients.txt', sep=',')\n",
    "\n",
    "#Carga de las dos partes \n",
    "df_webdata1 = pd.read_csv('data/data_raw/df_final_web_data_pt_1.txt', sep=',')\n",
    "df_webdata2 = pd.read_csv('data/data_raw/df_final_web_data_pt_2.txt', sep=',')"
   ]
  },
  {
   "cell_type": "markdown",
   "id": "6db7e656",
   "metadata": {},
   "source": [
    "Unimos y exploramos el dataset con la información referente al proceso web de los clientes. "
   ]
  },
  {
   "cell_type": "code",
   "execution_count": null,
   "id": "d0b2c5ce",
   "metadata": {},
   "outputs": [
    {
     "data": {
      "text/html": [
       "<div>\n",
       "<style scoped>\n",
       "    .dataframe tbody tr th:only-of-type {\n",
       "        vertical-align: middle;\n",
       "    }\n",
       "\n",
       "    .dataframe tbody tr th {\n",
       "        vertical-align: top;\n",
       "    }\n",
       "\n",
       "    .dataframe thead th {\n",
       "        text-align: right;\n",
       "    }\n",
       "</style>\n",
       "<table border=\"1\" class=\"dataframe\">\n",
       "  <thead>\n",
       "    <tr style=\"text-align: right;\">\n",
       "      <th></th>\n",
       "      <th>client_id</th>\n",
       "      <th>visitor_id</th>\n",
       "      <th>visit_id</th>\n",
       "      <th>process_step</th>\n",
       "      <th>date_time</th>\n",
       "    </tr>\n",
       "  </thead>\n",
       "  <tbody>\n",
       "    <tr>\n",
       "      <th>0</th>\n",
       "      <td>1643</td>\n",
       "      <td>910842861_51062379179</td>\n",
       "      <td>379946188_1773022140_107963</td>\n",
       "      <td>start</td>\n",
       "      <td>2017-04-15 15:06:00</td>\n",
       "    </tr>\n",
       "    <tr>\n",
       "      <th>1</th>\n",
       "      <td>1643</td>\n",
       "      <td>910842861_51062379179</td>\n",
       "      <td>633860590_96880450633_976109</td>\n",
       "      <td>start</td>\n",
       "      <td>2017-04-24 06:36:07</td>\n",
       "    </tr>\n",
       "    <tr>\n",
       "      <th>2</th>\n",
       "      <td>1643</td>\n",
       "      <td>910842861_51062379179</td>\n",
       "      <td>633860590_96880450633_976109</td>\n",
       "      <td>step_1</td>\n",
       "      <td>2017-04-24 06:36:32</td>\n",
       "    </tr>\n",
       "    <tr>\n",
       "      <th>3</th>\n",
       "      <td>1643</td>\n",
       "      <td>910842861_51062379179</td>\n",
       "      <td>633860590_96880450633_976109</td>\n",
       "      <td>start</td>\n",
       "      <td>2017-04-24 06:37:17</td>\n",
       "    </tr>\n",
       "    <tr>\n",
       "      <th>4</th>\n",
       "      <td>1643</td>\n",
       "      <td>910842861_51062379179</td>\n",
       "      <td>633860590_96880450633_976109</td>\n",
       "      <td>start</td>\n",
       "      <td>2017-04-24 06:38:20</td>\n",
       "    </tr>\n",
       "    <tr>\n",
       "      <th>5</th>\n",
       "      <td>1677</td>\n",
       "      <td>361240963_15830034505</td>\n",
       "      <td>494607202_74539107264_966618</td>\n",
       "      <td>start</td>\n",
       "      <td>2017-03-31 10:59:27</td>\n",
       "    </tr>\n",
       "    <tr>\n",
       "      <th>6</th>\n",
       "      <td>1677</td>\n",
       "      <td>361240963_15830034505</td>\n",
       "      <td>494607202_74539107264_966618</td>\n",
       "      <td>step_1</td>\n",
       "      <td>2017-03-31 10:59:41</td>\n",
       "    </tr>\n",
       "    <tr>\n",
       "      <th>7</th>\n",
       "      <td>1677</td>\n",
       "      <td>361240963_15830034505</td>\n",
       "      <td>494607202_74539107264_966618</td>\n",
       "      <td>step_2</td>\n",
       "      <td>2017-03-31 11:00:40</td>\n",
       "    </tr>\n",
       "    <tr>\n",
       "      <th>8</th>\n",
       "      <td>1677</td>\n",
       "      <td>361240963_15830034505</td>\n",
       "      <td>494607202_74539107264_966618</td>\n",
       "      <td>start</td>\n",
       "      <td>2017-03-31 11:01:50</td>\n",
       "    </tr>\n",
       "    <tr>\n",
       "      <th>9</th>\n",
       "      <td>1680</td>\n",
       "      <td>262688118_24224945474</td>\n",
       "      <td>807102410_81976926205_767113</td>\n",
       "      <td>start</td>\n",
       "      <td>2017-03-15 09:57:21</td>\n",
       "    </tr>\n",
       "  </tbody>\n",
       "</table>\n",
       "</div>"
      ],
      "text/plain": [
       "   client_id             visitor_id                      visit_id  \\\n",
       "0       1643  910842861_51062379179   379946188_1773022140_107963   \n",
       "1       1643  910842861_51062379179  633860590_96880450633_976109   \n",
       "2       1643  910842861_51062379179  633860590_96880450633_976109   \n",
       "3       1643  910842861_51062379179  633860590_96880450633_976109   \n",
       "4       1643  910842861_51062379179  633860590_96880450633_976109   \n",
       "5       1677  361240963_15830034505  494607202_74539107264_966618   \n",
       "6       1677  361240963_15830034505  494607202_74539107264_966618   \n",
       "7       1677  361240963_15830034505  494607202_74539107264_966618   \n",
       "8       1677  361240963_15830034505  494607202_74539107264_966618   \n",
       "9       1680  262688118_24224945474  807102410_81976926205_767113   \n",
       "\n",
       "  process_step            date_time  \n",
       "0        start  2017-04-15 15:06:00  \n",
       "1        start  2017-04-24 06:36:07  \n",
       "2       step_1  2017-04-24 06:36:32  \n",
       "3        start  2017-04-24 06:37:17  \n",
       "4        start  2017-04-24 06:38:20  \n",
       "5        start  2017-03-31 10:59:27  \n",
       "6       step_1  2017-03-31 10:59:41  \n",
       "7       step_2  2017-03-31 11:00:40  \n",
       "8        start  2017-03-31 11:01:50  \n",
       "9        start  2017-03-15 09:57:21  "
      ]
     },
     "execution_count": 5,
     "metadata": {},
     "output_type": "execute_result"
    }
   ],
   "source": [
    "# Creamo las funcion para juntar los dos dataframes sobre el paso de los clientes en el proceso web.\n",
    "\n",
    "def merge_dataframes(df1, df2, key='client_id'):\n",
    "    \n",
    "    merged_df = pd.merge(df1, df2, how='inner', on=key)\n",
    "\n",
    "    # Eliminar columnas duplicadas que terminan en '_y'\n",
    "    cols_to_drop = [col for col in merged_df.columns if col.endswith('_y')]\n",
    "    merged_df.drop(columns=cols_to_drop, inplace=True)\n",
    "\n",
    "    # Renombrar columnas que terminan en '_x' eliminando el sufijo\n",
    "    merged_df.rename(columns={\n",
    "        col: col.replace('_x', '') for col in merged_df.columns if col.endswith('_x')\n",
    "    }, inplace=True)\n",
    "    \n",
    "    # Eliminar duplicados y ordenar por client_id y date_time\n",
    "    merged_df = merged_df.drop_duplicates().sort_values(['client_id', 'date_time'])\n",
    "\n",
    "    return merged_df\n",
    "\n",
    "# Llamamos a la funcion para hacer el merge de los datos \n",
    "df_final_webdata = merge_dataframes(df_webdata1, df_webdata2)\n",
    "\n",
    "# se guarda en la carpeta files para usarlo en el futuro \n",
    "df_final_webdata.to_csv('data/df_final_web_data.txt', index=False)\n",
    "\n",
    "#Cargamos el dataframe final para comprobar que se ha guardado correctamente. \n",
    "df_final_webdata = pd.read_csv('data/df_final_web_data.txt',sep=',')\n",
    "df_final_webdata.head(10)"
   ]
  },
  {
   "cell_type": "code",
   "execution_count": 7,
   "id": "870eaa73",
   "metadata": {},
   "outputs": [
    {
     "name": "stdout",
     "output_type": "stream",
     "text": [
      "<class 'pandas.core.frame.DataFrame'>\n",
      "RangeIndex: 28199 entries, 0 to 28198\n",
      "Data columns (total 5 columns):\n",
      " #   Column        Non-Null Count  Dtype \n",
      "---  ------        --------------  ----- \n",
      " 0   client_id     28199 non-null  int64 \n",
      " 1   visitor_id    28199 non-null  object\n",
      " 2   visit_id      28199 non-null  object\n",
      " 3   process_step  28199 non-null  object\n",
      " 4   date_time     28199 non-null  object\n",
      "dtypes: int64(1), object(4)\n",
      "memory usage: 1.1+ MB\n"
     ]
    }
   ],
   "source": [
    "df_final_webdata.info()"
   ]
  },
  {
   "cell_type": "code",
   "execution_count": 8,
   "id": "e756fd9c",
   "metadata": {},
   "outputs": [
    {
     "data": {
      "text/plain": [
       "client_id       0\n",
       "visitor_id      0\n",
       "visit_id        0\n",
       "process_step    0\n",
       "date_time       0\n",
       "dtype: int64"
      ]
     },
     "execution_count": 8,
     "metadata": {},
     "output_type": "execute_result"
    }
   ],
   "source": [
    "df_final_webdata.isnull().sum()"
   ]
  },
  {
   "cell_type": "code",
   "execution_count": 9,
   "id": "3e528200",
   "metadata": {},
   "outputs": [
    {
     "name": "stdout",
     "output_type": "stream",
     "text": [
      "process_step\n",
      "start      12882\n",
      "step_1      6250\n",
      "step_2      4228\n",
      "step_3      2874\n",
      "confirm     1965\n",
      "Name: count, dtype: int64\n"
     ]
    }
   ],
   "source": [
    "print(df_final_webdata['process_step'].value_counts())"
   ]
  },
  {
   "cell_type": "code",
   "execution_count": 12,
   "id": "3b7d6a3d",
   "metadata": {},
   "outputs": [
    {
     "name": "stderr",
     "output_type": "stream",
     "text": [
      "C:\\Users\\franc\\AppData\\Local\\Temp\\ipykernel_12312\\3470933146.py:9: FutureWarning: \n",
      "\n",
      "Passing `palette` without assigning `hue` is deprecated and will be removed in v0.14.0. Assign the `x` variable to `hue` and set `legend=False` for the same effect.\n",
      "\n",
      "  ax = sns.barplot(x=frecuencias.index, y=frecuencias.values, palette='Blues_d')\n",
      "C:\\Users\\franc\\AppData\\Local\\Temp\\ipykernel_12312\\3470933146.py:17: UserWarning: set_ticklabels() should only be used with a fixed number of ticks, i.e. after set_ticks() or using a FixedLocator.\n",
      "  ax.set_xticklabels(ax.get_xticklabels(), rotation=45, ha='right')\n"
     ]
    },
    {
     "data": {
      "image/png": "[encoded data removed]",
      "text/plain": [
       "<Figure size 1000x600 with 1 Axes>"
      ]
     },
     "metadata": {},
     "output_type": "display_data"
    }
   ],
   "source": [
    "# Estilo general\n",
    "sns.set(style=\"whitegrid\")\n",
    "\n",
    "# Contar frecuencia y ordenar\n",
    "frecuencias = df_final_webdata['process_step'].value_counts()\n",
    "\n",
    "# Crear figura y ejes\n",
    "plt.figure(figsize=(10, 6))\n",
    "ax = sns.barplot(x=frecuencias.index, y=frecuencias.values, palette='Blues_d')\n",
    "\n",
    "# Títulos y etiquetas\n",
    "ax.set_title('Frecuencia de cada paso del proceso', fontsize=16, weight='bold')\n",
    "ax.set_xlabel('Paso del proceso', fontsize=12)\n",
    "ax.set_ylabel('Frecuencia', fontsize=12)\n",
    "\n",
    "# Rotar etiquetas del eje x para que no se encimen\n",
    "ax.set_xticklabels(ax.get_xticklabels(), rotation=45, ha='right')\n",
    "\n",
    "# Mostrar valores sobre cada barra\n",
    "for i, v in enumerate(frecuencias.values):\n",
    "    ax.text(i, v + max(frecuencias.values)*0.01, str(v), ha='center', fontsize=10)\n",
    "\n",
    "plt.tight_layout()\n",
    "plt.show()"
   ]
  },
  {
   "cell_type": "markdown",
   "id": "1f370140",
   "metadata": {},
   "source": [
    "Teniendo el df del proceso web pasamos a explorar y transformar el df demographics"
   ]
  },
  {
   "cell_type": "code",
   "execution_count": 16,
   "id": "ff61c37a",
   "metadata": {},
   "outputs": [],
   "source": [
    "def limpiar_demograficos(df):\n",
    "    # Renombra columnas para mayor claridad\n",
    "    df = df.rename(columns={\n",
    "        'clnt_tenure_yr': 'client_tenure_years',\n",
    "        'clnt_tenure_mnth': 'client_tenure_months',\n",
    "        'clnt_age': 'age',\n",
    "        'gendr': 'gender',\n",
    "        'num_accts': 'number_of_accounts',\n",
    "        'bal': 'balance',\n",
    "    })\n",
    "\n",
    "    # Elimina filas con valores nulos (menos del 0.02% del total)\n",
    "    df = df.dropna()\n",
    "\n",
    "    # Normaliza género: reemplaza 'X' por 'U' (Unknown)\n",
    "    df[\"gender\"] = df[\"gender\"].replace({\"X\": \"U\"})\n",
    "\n",
    "    # Convierte la edad a entero truncado (elimina .5)\n",
    "    df[\"age\"] = df[\"age\"].astype(int)\n",
    "\n",
    "    return df\n",
    "\n",
    "\n",
    "df_demo_clean = limpiar_demograficos(df_demographics)\n",
    "df_demo_clean.to_csv('data/df_demographic_clean.csv', sep=',',index=False)"
   ]
  },
  {
   "cell_type": "code",
   "execution_count": 17,
   "id": "2eb66815",
   "metadata": {},
   "outputs": [
    {
     "data": {
      "text/html": [
       "<div>\n",
       "<style scoped>\n",
       "    .dataframe tbody tr th:only-of-type {\n",
       "        vertical-align: middle;\n",
       "    }\n",
       "\n",
       "    .dataframe tbody tr th {\n",
       "        vertical-align: top;\n",
       "    }\n",
       "\n",
       "    .dataframe thead th {\n",
       "        text-align: right;\n",
       "    }\n",
       "</style>\n",
       "<table border=\"1\" class=\"dataframe\">\n",
       "  <thead>\n",
       "    <tr style=\"text-align: right;\">\n",
       "      <th></th>\n",
       "      <th>client_id</th>\n",
       "      <th>client_tenure_years</th>\n",
       "      <th>client_tenure_months</th>\n",
       "      <th>age</th>\n",
       "      <th>gender</th>\n",
       "      <th>number_of_accounts</th>\n",
       "      <th>balance</th>\n",
       "      <th>calls_6_mnth</th>\n",
       "      <th>logons_6_mnth</th>\n",
       "    </tr>\n",
       "  </thead>\n",
       "  <tbody>\n",
       "    <tr>\n",
       "      <th>0</th>\n",
       "      <td>836976</td>\n",
       "      <td>6.0</td>\n",
       "      <td>73.0</td>\n",
       "      <td>60</td>\n",
       "      <td>U</td>\n",
       "      <td>2.0</td>\n",
       "      <td>45105.30</td>\n",
       "      <td>6.0</td>\n",
       "      <td>9.0</td>\n",
       "    </tr>\n",
       "    <tr>\n",
       "      <th>1</th>\n",
       "      <td>2304905</td>\n",
       "      <td>7.0</td>\n",
       "      <td>94.0</td>\n",
       "      <td>58</td>\n",
       "      <td>U</td>\n",
       "      <td>2.0</td>\n",
       "      <td>110860.30</td>\n",
       "      <td>6.0</td>\n",
       "      <td>9.0</td>\n",
       "    </tr>\n",
       "    <tr>\n",
       "      <th>2</th>\n",
       "      <td>1439522</td>\n",
       "      <td>5.0</td>\n",
       "      <td>64.0</td>\n",
       "      <td>32</td>\n",
       "      <td>U</td>\n",
       "      <td>2.0</td>\n",
       "      <td>52467.79</td>\n",
       "      <td>6.0</td>\n",
       "      <td>9.0</td>\n",
       "    </tr>\n",
       "    <tr>\n",
       "      <th>3</th>\n",
       "      <td>1562045</td>\n",
       "      <td>16.0</td>\n",
       "      <td>198.0</td>\n",
       "      <td>49</td>\n",
       "      <td>M</td>\n",
       "      <td>2.0</td>\n",
       "      <td>67454.65</td>\n",
       "      <td>3.0</td>\n",
       "      <td>6.0</td>\n",
       "    </tr>\n",
       "    <tr>\n",
       "      <th>4</th>\n",
       "      <td>5126305</td>\n",
       "      <td>12.0</td>\n",
       "      <td>145.0</td>\n",
       "      <td>33</td>\n",
       "      <td>F</td>\n",
       "      <td>2.0</td>\n",
       "      <td>103671.75</td>\n",
       "      <td>0.0</td>\n",
       "      <td>3.0</td>\n",
       "    </tr>\n",
       "    <tr>\n",
       "      <th>5</th>\n",
       "      <td>3727881</td>\n",
       "      <td>5.0</td>\n",
       "      <td>71.0</td>\n",
       "      <td>30</td>\n",
       "      <td>U</td>\n",
       "      <td>2.0</td>\n",
       "      <td>23915.60</td>\n",
       "      <td>0.0</td>\n",
       "      <td>3.0</td>\n",
       "    </tr>\n",
       "    <tr>\n",
       "      <th>6</th>\n",
       "      <td>272934</td>\n",
       "      <td>5.0</td>\n",
       "      <td>66.0</td>\n",
       "      <td>58</td>\n",
       "      <td>U</td>\n",
       "      <td>2.0</td>\n",
       "      <td>27021.42</td>\n",
       "      <td>2.0</td>\n",
       "      <td>5.0</td>\n",
       "    </tr>\n",
       "    <tr>\n",
       "      <th>7</th>\n",
       "      <td>388801</td>\n",
       "      <td>30.0</td>\n",
       "      <td>361.0</td>\n",
       "      <td>57</td>\n",
       "      <td>M</td>\n",
       "      <td>5.0</td>\n",
       "      <td>522498.72</td>\n",
       "      <td>1.0</td>\n",
       "      <td>4.0</td>\n",
       "    </tr>\n",
       "    <tr>\n",
       "      <th>8</th>\n",
       "      <td>285619</td>\n",
       "      <td>30.0</td>\n",
       "      <td>369.0</td>\n",
       "      <td>67</td>\n",
       "      <td>M</td>\n",
       "      <td>2.0</td>\n",
       "      <td>299388.72</td>\n",
       "      <td>3.0</td>\n",
       "      <td>6.0</td>\n",
       "    </tr>\n",
       "    <tr>\n",
       "      <th>9</th>\n",
       "      <td>8198645</td>\n",
       "      <td>15.0</td>\n",
       "      <td>189.0</td>\n",
       "      <td>54</td>\n",
       "      <td>F</td>\n",
       "      <td>2.0</td>\n",
       "      <td>382303.83</td>\n",
       "      <td>6.0</td>\n",
       "      <td>9.0</td>\n",
       "    </tr>\n",
       "  </tbody>\n",
       "</table>\n",
       "</div>"
      ],
      "text/plain": [
       "   client_id  client_tenure_years  client_tenure_months  age gender  \\\n",
       "0     836976                  6.0                  73.0   60      U   \n",
       "1    2304905                  7.0                  94.0   58      U   \n",
       "2    1439522                  5.0                  64.0   32      U   \n",
       "3    1562045                 16.0                 198.0   49      M   \n",
       "4    5126305                 12.0                 145.0   33      F   \n",
       "5    3727881                  5.0                  71.0   30      U   \n",
       "6     272934                  5.0                  66.0   58      U   \n",
       "7     388801                 30.0                 361.0   57      M   \n",
       "8     285619                 30.0                 369.0   67      M   \n",
       "9    8198645                 15.0                 189.0   54      F   \n",
       "\n",
       "   number_of_accounts    balance  calls_6_mnth  logons_6_mnth  \n",
       "0                 2.0   45105.30           6.0            9.0  \n",
       "1                 2.0  110860.30           6.0            9.0  \n",
       "2                 2.0   52467.79           6.0            9.0  \n",
       "3                 2.0   67454.65           3.0            6.0  \n",
       "4                 2.0  103671.75           0.0            3.0  \n",
       "5                 2.0   23915.60           0.0            3.0  \n",
       "6                 2.0   27021.42           2.0            5.0  \n",
       "7                 5.0  522498.72           1.0            4.0  \n",
       "8                 2.0  299388.72           3.0            6.0  \n",
       "9                 2.0  382303.83           6.0            9.0  "
      ]
     },
     "execution_count": 17,
     "metadata": {},
     "output_type": "execute_result"
    }
   ],
   "source": [
    "df_demo_clean.head(10)"
   ]
  },
  {
   "cell_type": "markdown",
   "id": "bbba344e",
   "metadata": {},
   "source": [
    "ahora cargamos el dataset de la prertenencia de cada cliente al grupo test o control "
   ]
  },
  {
   "cell_type": "code",
   "execution_count": 19,
   "id": "b1d38d1a",
   "metadata": {},
   "outputs": [
    {
     "name": "stdout",
     "output_type": "stream",
     "text": [
      "   client_id Variation\n",
      "0    9988021      Test\n",
      "1    8320017      Test\n",
      "2    4033851   Control\n",
      "3    1982004      Test\n",
      "4    9294070   Control\n",
      "Variation\n",
      "Test       26968\n",
      "Control    23532\n",
      "Name: count, dtype: int64\n"
     ]
    }
   ],
   "source": [
    "# Verificamos los primeros registros\n",
    "print(df_experiment.head())\n",
    "print(df_experiment['Variation'].value_counts())  # Ver grupos: 'control' vs 'experiment'"
   ]
  },
  {
   "cell_type": "code",
   "execution_count": 20,
   "id": "aa2a2ed9",
   "metadata": {},
   "outputs": [
    {
     "name": "stdout",
     "output_type": "stream",
     "text": [
      "['client_id', 'Variation']\n",
      "Index(['client_id', 'group'], dtype='object')\n"
     ]
    }
   ],
   "source": [
    "print(df_experiment.columns.tolist())\n",
    "df_experiment.columns = df_experiment.columns.str.strip()\n",
    "df_experiment.rename(columns={'Variation': 'group'}, inplace=True)\n",
    "print(df_experiment.columns)"
   ]
  },
  {
   "cell_type": "code",
   "execution_count": 22,
   "id": "abcbddb2",
   "metadata": {},
   "outputs": [
    {
     "name": "stdout",
     "output_type": "stream",
     "text": [
      "group\n",
      "Test       26968\n",
      "Control    23532\n",
      "Name: count, dtype: int64\n"
     ]
    }
   ],
   "source": [
    "print(df_experiment['group'].value_counts())"
   ]
  },
  {
   "cell_type": "code",
   "execution_count": null,
   "id": "9064a956",
   "metadata": {},
   "outputs": [],
   "source": []
  }
 ],
 "metadata": {
  "kernelspec": {
   "display_name": "venv",
   "language": "python",
   "name": "python3"
  },
  "language_info": {
   "codemirror_mode": {
    "name": "ipython",
    "version": 3
   },
   "file_extension": ".py",
   "mimetype": "text/x-python",
   "name": "python",
   "nbconvert_exporter": "python",
   "pygments_lexer": "ipython3",
   "version": "3.12.1"
  }
 },
 "nbformat": 4,
 "nbformat_minor": 5
}
