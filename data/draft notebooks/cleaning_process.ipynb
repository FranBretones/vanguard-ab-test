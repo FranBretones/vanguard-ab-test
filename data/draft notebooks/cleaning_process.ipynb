{
 "cells": [
  {
   "cell_type": "code",
   "execution_count": 2,
   "id": "118d04e7",
   "metadata": {},
   "outputs": [],
   "source": [
    "#importamos las librerias necesarias para el proceso\n",
    "\n",
    "import pandas as pd \n",
    "import numpy as np\n",
    "import matplotlib.pyplot as plt \n",
    "import seaborn as sns \n"
   ]
  },
  {
   "cell_type": "markdown",
   "id": "879289d7",
   "metadata": {},
   "source": [
    "####  Cargamos todos los datos demograficos de los clientes\n"
   ]
  },
  {
   "cell_type": "code",
   "execution_count": 4,
   "id": "fdbf34b3",
   "metadata": {},
   "outputs": [
    {
     "data": {
      "text/html": [
       "<div>\n",
       "<style scoped>\n",
       "    .dataframe tbody tr th:only-of-type {\n",
       "        vertical-align: middle;\n",
       "    }\n",
       "\n",
       "    .dataframe tbody tr th {\n",
       "        vertical-align: top;\n",
       "    }\n",
       "\n",
       "    .dataframe thead th {\n",
       "        text-align: right;\n",
       "    }\n",
       "</style>\n",
       "<table border=\"1\" class=\"dataframe\">\n",
       "  <thead>\n",
       "    <tr style=\"text-align: right;\">\n",
       "      <th></th>\n",
       "      <th>client_id</th>\n",
       "      <th>clnt_tenure_yr</th>\n",
       "      <th>clnt_tenure_mnth</th>\n",
       "      <th>clnt_age</th>\n",
       "      <th>gendr</th>\n",
       "      <th>num_accts</th>\n",
       "      <th>bal</th>\n",
       "      <th>calls_6_mnth</th>\n",
       "      <th>logons_6_mnth</th>\n",
       "    </tr>\n",
       "  </thead>\n",
       "  <tbody>\n",
       "    <tr>\n",
       "      <th>0</th>\n",
       "      <td>836976</td>\n",
       "      <td>6.0</td>\n",
       "      <td>73.0</td>\n",
       "      <td>60.5</td>\n",
       "      <td>U</td>\n",
       "      <td>2.0</td>\n",
       "      <td>45105.30</td>\n",
       "      <td>6.0</td>\n",
       "      <td>9.0</td>\n",
       "    </tr>\n",
       "    <tr>\n",
       "      <th>1</th>\n",
       "      <td>2304905</td>\n",
       "      <td>7.0</td>\n",
       "      <td>94.0</td>\n",
       "      <td>58.0</td>\n",
       "      <td>U</td>\n",
       "      <td>2.0</td>\n",
       "      <td>110860.30</td>\n",
       "      <td>6.0</td>\n",
       "      <td>9.0</td>\n",
       "    </tr>\n",
       "    <tr>\n",
       "      <th>2</th>\n",
       "      <td>1439522</td>\n",
       "      <td>5.0</td>\n",
       "      <td>64.0</td>\n",
       "      <td>32.0</td>\n",
       "      <td>U</td>\n",
       "      <td>2.0</td>\n",
       "      <td>52467.79</td>\n",
       "      <td>6.0</td>\n",
       "      <td>9.0</td>\n",
       "    </tr>\n",
       "    <tr>\n",
       "      <th>3</th>\n",
       "      <td>1562045</td>\n",
       "      <td>16.0</td>\n",
       "      <td>198.0</td>\n",
       "      <td>49.0</td>\n",
       "      <td>M</td>\n",
       "      <td>2.0</td>\n",
       "      <td>67454.65</td>\n",
       "      <td>3.0</td>\n",
       "      <td>6.0</td>\n",
       "    </tr>\n",
       "    <tr>\n",
       "      <th>4</th>\n",
       "      <td>5126305</td>\n",
       "      <td>12.0</td>\n",
       "      <td>145.0</td>\n",
       "      <td>33.0</td>\n",
       "      <td>F</td>\n",
       "      <td>2.0</td>\n",
       "      <td>103671.75</td>\n",
       "      <td>0.0</td>\n",
       "      <td>3.0</td>\n",
       "    </tr>\n",
       "  </tbody>\n",
       "</table>\n",
       "</div>"
      ],
      "text/plain": [
       "   client_id  clnt_tenure_yr  clnt_tenure_mnth  clnt_age gendr  num_accts  \\\n",
       "0     836976             6.0              73.0      60.5     U        2.0   \n",
       "1    2304905             7.0              94.0      58.0     U        2.0   \n",
       "2    1439522             5.0              64.0      32.0     U        2.0   \n",
       "3    1562045            16.0             198.0      49.0     M        2.0   \n",
       "4    5126305            12.0             145.0      33.0     F        2.0   \n",
       "\n",
       "         bal  calls_6_mnth  logons_6_mnth  \n",
       "0   45105.30           6.0            9.0  \n",
       "1  110860.30           6.0            9.0  \n",
       "2   52467.79           6.0            9.0  \n",
       "3   67454.65           3.0            6.0  \n",
       "4  103671.75           0.0            3.0  "
      ]
     },
     "execution_count": 4,
     "metadata": {},
     "output_type": "execute_result"
    }
   ],
   "source": [
    "df_demo = pd.read_csv('data/raw/df_final_demo.txt')\n",
    "df_demo.head(5)"
   ]
  },
  {
   "cell_type": "code",
   "execution_count": 6,
   "id": "82b4c7c1",
   "metadata": {},
   "outputs": [
    {
     "name": "stdout",
     "output_type": "stream",
     "text": [
      "Porcentaje de valores nulos por columna:\n",
      "clnt_age            0.02%\n",
      "num_accts           0.02%\n",
      "clnt_tenure_yr      0.02%\n",
      "clnt_tenure_mnth    0.02%\n",
      "gendr               0.02%\n",
      "calls_6_mnth        0.02%\n",
      "bal                 0.02%\n",
      "logons_6_mnth       0.02%\n",
      "client_id           0.00%\n",
      "dtype: object\n"
     ]
    }
   ],
   "source": [
    "# Buscamos cuantos nulos tenemos. \n",
    "null_percentage = df_demo.isnull().mean().sort_values(ascending=False) * 100\n",
    "\n",
    "# Formateamos los valores con dos decimales y el símbolo %\n",
    "null_percentage_formatted = null_percentage.apply(lambda x: f\"{x:.2f}%\")\n",
    "\n",
    "print(\"Porcentaje de valores nulos por columna:\")\n",
    "print(null_percentage_formatted)"
   ]
  },
  {
   "cell_type": "code",
   "execution_count": null,
   "id": "2f4d9478",
   "metadata": {},
   "outputs": [],
   "source": [
    "def limpiar_demograficos(df):\n",
    "    # Renombra columnas para mayor claridad\n",
    "    df = df.rename(columns={\n",
    "        'clnt_tenure_yr': 'client_tenure_years',\n",
    "        'clnt_tenure_mnth': 'client_tenure_months',\n",
    "        'clnt_age': 'age',\n",
    "        'gendr': 'gender',\n",
    "        'num_accts': 'number_of_accounts',\n",
    "        'bal': 'balance',\n",
    "    })\n",
    "\n",
    "    # Elimina filas con valores nulos (menos del 0.02% del total)\n",
    "    df = df.dropna()\n",
    "\n",
    "    # Normaliza género: reemplaza 'X' por 'U' (Unknown)\n",
    "    df[\"gender\"] = df[\"gender\"].replace({\"X\": \"U\"})\n",
    "\n",
    "    # Convierte la edad a entero truncado (elimina .5)\n",
    "    df[\"age\"] = df[\"age\"].astype(int)\n",
    "\n",
    "    return df\n",
    "\n",
    "\n",
    "df_demo_clean = limpiar_demograficos(df_demo)\n"
   ]
  },
  {
   "cell_type": "code",
   "execution_count": 23,
   "id": "f21d1943",
   "metadata": {},
   "outputs": [
    {
     "data": {
      "image/png": "[encoded data removed]",
      "text/plain": [
       "<Figure size 1200x600 with 3 Axes>"
      ]
     },
     "metadata": {},
     "output_type": "display_data"
    }
   ],
   "source": [
    "# Columnas a graficar (asegúrate que existen en el df)\n",
    "cols_to_plot = ['client_tenure_years', 'age', 'balance']\n",
    "cols_to_plot = [col for col in cols_to_plot if col in df_demo_clean.columns]\n",
    "\n",
    "# Configura el estilo visual\n",
    "sns.set(style=\"whitegrid\")\n",
    "\n",
    "# Crear figura general\n",
    "plt.figure(figsize=(12, 6))\n",
    "\n",
    "# Iterar y graficar cada histograma\n",
    "for idx, col in enumerate(cols_to_plot, 1):\n",
    "    plt.subplot(3, 2, idx)\n",
    "    sns.histplot(df_demo_clean[col], bins=30, kde=True, color='steelblue')\n",
    "    plt.title(col.replace('_', ' ').title(), fontsize=11)\n",
    "    plt.xlabel('')\n",
    "    plt.ylabel('Frecuencia')\n",
    "\n",
    "plt.tight_layout()\n",
    "plt.suptitle('Distribución de variables numéricas', fontsize=14, y=1.02)\n",
    "plt.show()"
   ]
  },
  {
   "cell_type": "code",
   "execution_count": 25,
   "id": "ee8c0913",
   "metadata": {},
   "outputs": [
    {
     "name": "stdout",
     "output_type": "stream",
     "text": [
      "Clientes con permanencia > edad: 574 de 70594 (0.8131%)\n"
     ]
    }
   ],
   "source": [
    "# Borramos aquellos clientes con permanencias superiores a sus edades \n",
    "inconsistentes = (df_demo_clean['client_tenure_years'] > df_demo_clean['age']).sum()\n",
    "total = len(df_demo_clean)\n",
    "\n",
    "proporcion = (inconsistentes / total) * 100\n",
    "\n",
    "print(f\"Clientes con permanencia > edad: {inconsistentes} de {total} ({proporcion:.4f}%)\")"
   ]
  },
  {
   "cell_type": "code",
   "execution_count": 27,
   "id": "4ae0d414",
   "metadata": {},
   "outputs": [],
   "source": [
    "# Borramos los datos que presentan outlier (IQR) \n",
    "def filtrar_outliers_iqr(df, columnas):\n",
    "\n",
    "    df_filtrado = df.copy()\n",
    "    for col in columnas:\n",
    "        if col in df.columns:\n",
    "            Q1 = df[col].quantile(0.25)\n",
    "            Q3 = df[col].quantile(0.75)\n",
    "            IQR = Q3 - Q1\n",
    "            lower = Q1 - 1.5 * IQR\n",
    "            upper = Q3 + 1.5 * IQR\n",
    "            df_filtrado = df_filtrado[(df_filtrado[col] >= lower) & (df_filtrado[col] <= upper)]\n",
    "    return df_filtrado\n",
    "\n",
    "\n",
    "df_demo_iqr_filter = filtrar_outliers_iqr(df_demo_clean, cols_to_plot)"
   ]
  },
  {
   "cell_type": "code",
   "execution_count": null,
   "id": "540212ce",
   "metadata": {},
   "outputs": [],
   "source": [
    "# Segmentamos los clientes\n"
   ]
  },
  {
   "cell_type": "markdown",
   "id": "911fa4b6",
   "metadata": {},
   "source": [
    "#### Cargamos los datos del experimento     "
   ]
  },
  {
   "cell_type": "code",
   "execution_count": 13,
   "id": "82414cce",
   "metadata": {},
   "outputs": [
    {
     "data": {
      "text/html": [
       "<div>\n",
       "<style scoped>\n",
       "    .dataframe tbody tr th:only-of-type {\n",
       "        vertical-align: middle;\n",
       "    }\n",
       "\n",
       "    .dataframe tbody tr th {\n",
       "        vertical-align: top;\n",
       "    }\n",
       "\n",
       "    .dataframe thead th {\n",
       "        text-align: right;\n",
       "    }\n",
       "</style>\n",
       "<table border=\"1\" class=\"dataframe\">\n",
       "  <thead>\n",
       "    <tr style=\"text-align: right;\">\n",
       "      <th></th>\n",
       "      <th>client_id</th>\n",
       "      <th>Variation</th>\n",
       "    </tr>\n",
       "  </thead>\n",
       "  <tbody>\n",
       "    <tr>\n",
       "      <th>0</th>\n",
       "      <td>9988021</td>\n",
       "      <td>Test</td>\n",
       "    </tr>\n",
       "    <tr>\n",
       "      <th>1</th>\n",
       "      <td>8320017</td>\n",
       "      <td>Test</td>\n",
       "    </tr>\n",
       "    <tr>\n",
       "      <th>2</th>\n",
       "      <td>4033851</td>\n",
       "      <td>Control</td>\n",
       "    </tr>\n",
       "    <tr>\n",
       "      <th>3</th>\n",
       "      <td>1982004</td>\n",
       "      <td>Test</td>\n",
       "    </tr>\n",
       "    <tr>\n",
       "      <th>4</th>\n",
       "      <td>9294070</td>\n",
       "      <td>Control</td>\n",
       "    </tr>\n",
       "    <tr>\n",
       "      <th>5</th>\n",
       "      <td>9466803</td>\n",
       "      <td>Test</td>\n",
       "    </tr>\n",
       "    <tr>\n",
       "      <th>6</th>\n",
       "      <td>3170143</td>\n",
       "      <td>Test</td>\n",
       "    </tr>\n",
       "    <tr>\n",
       "      <th>7</th>\n",
       "      <td>6651403</td>\n",
       "      <td>Control</td>\n",
       "    </tr>\n",
       "    <tr>\n",
       "      <th>8</th>\n",
       "      <td>5887227</td>\n",
       "      <td>Test</td>\n",
       "    </tr>\n",
       "    <tr>\n",
       "      <th>9</th>\n",
       "      <td>2105948</td>\n",
       "      <td>Control</td>\n",
       "    </tr>\n",
       "  </tbody>\n",
       "</table>\n",
       "</div>"
      ],
      "text/plain": [
       "   client_id Variation\n",
       "0    9988021      Test\n",
       "1    8320017      Test\n",
       "2    4033851   Control\n",
       "3    1982004      Test\n",
       "4    9294070   Control\n",
       "5    9466803      Test\n",
       "6    3170143      Test\n",
       "7    6651403   Control\n",
       "8    5887227      Test\n",
       "9    2105948   Control"
      ]
     },
     "execution_count": 13,
     "metadata": {},
     "output_type": "execute_result"
    }
   ],
   "source": [
    "df_experiment = pd.read_csv('data/raw/df_final_experiment_clients.txt')\n",
    "df_experiment.head(10)"
   ]
  },
  {
   "cell_type": "code",
   "execution_count": 15,
   "id": "fcff2954",
   "metadata": {},
   "outputs": [
    {
     "data": {
      "text/plain": [
       "client_id        0\n",
       "Variation    20109\n",
       "dtype: int64"
      ]
     },
     "execution_count": 15,
     "metadata": {},
     "output_type": "execute_result"
    }
   ],
   "source": [
    "df_experiment.isnull().sum()"
   ]
  },
  {
   "cell_type": "code",
   "execution_count": 16,
   "id": "aa3a9b3e",
   "metadata": {},
   "outputs": [
    {
     "name": "stdout",
     "output_type": "stream",
     "text": [
      "Porcentaje de valores nulos por columna:\n",
      "Variation    28.48%\n",
      "client_id     0.00%\n",
      "dtype: object\n"
     ]
    }
   ],
   "source": [
    "# Buscamos cuantos nulos tenemos. \n",
    "null_percentage = df_experiment.isnull().mean().sort_values(ascending=False) * 100\n",
    "\n",
    "# Formateamos los valores con dos decimales y el símbolo %\n",
    "null_percentage_formatted = null_percentage.apply(lambda x: f\"{x:.2f}%\")\n",
    "\n",
    "print(\"Porcentaje de valores nulos por columna:\")\n",
    "print(null_percentage_formatted)"
   ]
  },
  {
   "cell_type": "code",
   "execution_count": null,
   "id": "8d9c5357",
   "metadata": {},
   "outputs": [],
   "source": [
    "df_clients = df_experiment.dropna(subset=[\"Variation\"])\n",
    "df_clients.to_csv(\"data/cleaned/df_final_experiment_clients_cleaned.csv\", index=False)\n",
    "\n"
   ]
  },
  {
   "cell_type": "markdown",
   "id": "6061c114",
   "metadata": {},
   "source": [
    "#### Hacemos el merge de los dos archivos con los datos del funnel channel"
   ]
  },
  {
   "cell_type": "code",
   "execution_count": 21,
   "id": "03df40bf",
   "metadata": {},
   "outputs": [],
   "source": [
    "df_webdata1 = pd.read_csv('data/raw/df_final_web_data_pt_1.txt', sep=',')\n",
    "df_webdata2 = pd.read_csv('data/raw/df_final_web_data_pt_2.txt', sep=',')"
   ]
  },
  {
   "cell_type": "code",
   "execution_count": 29,
   "id": "4173c4fc",
   "metadata": {},
   "outputs": [
    {
     "data": {
      "text/html": [
       "<div>\n",
       "<style scoped>\n",
       "    .dataframe tbody tr th:only-of-type {\n",
       "        vertical-align: middle;\n",
       "    }\n",
       "\n",
       "    .dataframe tbody tr th {\n",
       "        vertical-align: top;\n",
       "    }\n",
       "\n",
       "    .dataframe thead th {\n",
       "        text-align: right;\n",
       "    }\n",
       "</style>\n",
       "<table border=\"1\" class=\"dataframe\">\n",
       "  <thead>\n",
       "    <tr style=\"text-align: right;\">\n",
       "      <th></th>\n",
       "      <th>client_id</th>\n",
       "      <th>visitor_id</th>\n",
       "      <th>visit_id</th>\n",
       "      <th>process_step</th>\n",
       "      <th>date_time</th>\n",
       "    </tr>\n",
       "  </thead>\n",
       "  <tbody>\n",
       "    <tr>\n",
       "      <th>0</th>\n",
       "      <td>1643</td>\n",
       "      <td>910842861_51062379179</td>\n",
       "      <td>379946188_1773022140_107963</td>\n",
       "      <td>start</td>\n",
       "      <td>2017-04-15 15:06:00</td>\n",
       "    </tr>\n",
       "    <tr>\n",
       "      <th>1</th>\n",
       "      <td>1643</td>\n",
       "      <td>910842861_51062379179</td>\n",
       "      <td>633860590_96880450633_976109</td>\n",
       "      <td>start</td>\n",
       "      <td>2017-04-24 06:36:07</td>\n",
       "    </tr>\n",
       "    <tr>\n",
       "      <th>2</th>\n",
       "      <td>1643</td>\n",
       "      <td>910842861_51062379179</td>\n",
       "      <td>633860590_96880450633_976109</td>\n",
       "      <td>step_1</td>\n",
       "      <td>2017-04-24 06:36:32</td>\n",
       "    </tr>\n",
       "    <tr>\n",
       "      <th>3</th>\n",
       "      <td>1643</td>\n",
       "      <td>910842861_51062379179</td>\n",
       "      <td>633860590_96880450633_976109</td>\n",
       "      <td>start</td>\n",
       "      <td>2017-04-24 06:37:17</td>\n",
       "    </tr>\n",
       "    <tr>\n",
       "      <th>4</th>\n",
       "      <td>1643</td>\n",
       "      <td>910842861_51062379179</td>\n",
       "      <td>633860590_96880450633_976109</td>\n",
       "      <td>start</td>\n",
       "      <td>2017-04-24 06:38:20</td>\n",
       "    </tr>\n",
       "    <tr>\n",
       "      <th>5</th>\n",
       "      <td>1677</td>\n",
       "      <td>361240963_15830034505</td>\n",
       "      <td>494607202_74539107264_966618</td>\n",
       "      <td>start</td>\n",
       "      <td>2017-03-31 10:59:27</td>\n",
       "    </tr>\n",
       "    <tr>\n",
       "      <th>6</th>\n",
       "      <td>1677</td>\n",
       "      <td>361240963_15830034505</td>\n",
       "      <td>494607202_74539107264_966618</td>\n",
       "      <td>step_1</td>\n",
       "      <td>2017-03-31 10:59:41</td>\n",
       "    </tr>\n",
       "    <tr>\n",
       "      <th>7</th>\n",
       "      <td>1677</td>\n",
       "      <td>361240963_15830034505</td>\n",
       "      <td>494607202_74539107264_966618</td>\n",
       "      <td>step_2</td>\n",
       "      <td>2017-03-31 11:00:40</td>\n",
       "    </tr>\n",
       "    <tr>\n",
       "      <th>8</th>\n",
       "      <td>1677</td>\n",
       "      <td>361240963_15830034505</td>\n",
       "      <td>494607202_74539107264_966618</td>\n",
       "      <td>start</td>\n",
       "      <td>2017-03-31 11:01:50</td>\n",
       "    </tr>\n",
       "    <tr>\n",
       "      <th>9</th>\n",
       "      <td>1680</td>\n",
       "      <td>262688118_24224945474</td>\n",
       "      <td>807102410_81976926205_767113</td>\n",
       "      <td>start</td>\n",
       "      <td>2017-03-15 09:57:21</td>\n",
       "    </tr>\n",
       "  </tbody>\n",
       "</table>\n",
       "</div>"
      ],
      "text/plain": [
       "   client_id             visitor_id                      visit_id  \\\n",
       "0       1643  910842861_51062379179   379946188_1773022140_107963   \n",
       "1       1643  910842861_51062379179  633860590_96880450633_976109   \n",
       "2       1643  910842861_51062379179  633860590_96880450633_976109   \n",
       "3       1643  910842861_51062379179  633860590_96880450633_976109   \n",
       "4       1643  910842861_51062379179  633860590_96880450633_976109   \n",
       "5       1677  361240963_15830034505  494607202_74539107264_966618   \n",
       "6       1677  361240963_15830034505  494607202_74539107264_966618   \n",
       "7       1677  361240963_15830034505  494607202_74539107264_966618   \n",
       "8       1677  361240963_15830034505  494607202_74539107264_966618   \n",
       "9       1680  262688118_24224945474  807102410_81976926205_767113   \n",
       "\n",
       "  process_step            date_time  \n",
       "0        start  2017-04-15 15:06:00  \n",
       "1        start  2017-04-24 06:36:07  \n",
       "2       step_1  2017-04-24 06:36:32  \n",
       "3        start  2017-04-24 06:37:17  \n",
       "4        start  2017-04-24 06:38:20  \n",
       "5        start  2017-03-31 10:59:27  \n",
       "6       step_1  2017-03-31 10:59:41  \n",
       "7       step_2  2017-03-31 11:00:40  \n",
       "8        start  2017-03-31 11:01:50  \n",
       "9        start  2017-03-15 09:57:21  "
      ]
     },
     "execution_count": 29,
     "metadata": {},
     "output_type": "execute_result"
    }
   ],
   "source": [
    "def merge_dataframes(df1, df2, key='client_id'):\n",
    "    \n",
    "    merged_df = pd.merge(df1, df2, how='inner', on=key)\n",
    "\n",
    "    # Eliminar columnas duplicadas que terminan en '_y'\n",
    "    cols_to_drop = [col for col in merged_df.columns if col.endswith('_y')]\n",
    "    merged_df.drop(columns=cols_to_drop, inplace=True)\n",
    "\n",
    "    # Renombrar columnas que terminan en '_x' eliminando el sufijo\n",
    "    merged_df.rename(columns={\n",
    "        col: col.replace('_x', '') for col in merged_df.columns if col.endswith('_x')\n",
    "    }, inplace=True)\n",
    "    \n",
    "    # Eliminar duplicados y ordenar por client_id y date_time\n",
    "    merged_df = merged_df.drop_duplicates().sort_values(['client_id', 'date_time'])\n",
    "\n",
    "    return merged_df\n",
    "\n",
    "# Llamamos a la funcion para hacer el merge de los datos \n",
    "df_final_webdata = merge_dataframes(df_webdata1, df_webdata2)\n",
    "\n",
    "# se guarda en la carpeta files para usarlo en el futuro \n",
    "df_final_webdata.to_csv('data/cleaned/df_final_web_data.csv', index=False)\n",
    "\n",
    "#Cargamos el dataframe final para comprobar que se ha guardado correctamente. \n",
    "df_final_webdata = pd.read_csv('data/cleaned/df_final_web_data.csv',sep=',')\n",
    "df_final_webdata.head(10)"
   ]
  },
  {
   "cell_type": "code",
   "execution_count": null,
   "id": "cbad5147",
   "metadata": {},
   "outputs": [],
   "source": []
  }
 ],
 "metadata": {
  "kernelspec": {
   "display_name": "venv",
   "language": "python",
   "name": "python3"
  },
  "language_info": {
   "codemirror_mode": {
    "name": "ipython",
    "version": 3
   },
   "file_extension": ".py",
   "mimetype": "text/x-python",
   "name": "python",
   "nbconvert_exporter": "python",
   "pygments_lexer": "ipython3",
   "version": "3.12.1"
  }
 },
 "nbformat": 4,
 "nbformat_minor": 5
}
